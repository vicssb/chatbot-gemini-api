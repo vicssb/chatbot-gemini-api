{
  "nbformat": 4,
  "nbformat_minor": 0,
  "metadata": {
    "colab": {
      "provenance": [],
      "authorship_tag": "ABX9TyPKQWGC6rHt7q5rlqjzjQDJ",
      "include_colab_link": true
    },
    "kernelspec": {
      "name": "python3",
      "display_name": "Python 3"
    },
    "language_info": {
      "name": "python"
    }
  },
  "cells": [
    {
      "cell_type": "markdown",
      "metadata": {
        "id": "view-in-github",
        "colab_type": "text"
      },
      "source": [
        "<a href=\"https://colab.research.google.com/github/vicssb/chatbot-gemini-api/blob/main/chatbot_gemini_api.ipynb\" target=\"_parent\"><img src=\"https://colab.research.google.com/assets/colab-badge.svg\" alt=\"Open In Colab\"/></a>"
      ]
    },
    {
      "cell_type": "markdown",
      "source": [
        "##Setup"
      ],
      "metadata": {
        "id": "k7Gz5hR82192"
      }
    },
    {
      "cell_type": "markdown",
      "source": [
        "###Install the Python SDK"
      ],
      "metadata": {
        "id": "OHz0yq_m1qoz"
      }
    },
    {
      "cell_type": "markdown",
      "source": [
        "Install the Python SDK for the Gemini API, is contained in the google-generativeai package. Install the dependency using pip:"
      ],
      "metadata": {
        "id": "feoZEwsVTS-G"
      }
    },
    {
      "cell_type": "code",
      "execution_count": 1,
      "metadata": {
        "id": "cjvuGBxvCnlS"
      },
      "outputs": [],
      "source": [
        "pip install -q -U google-generativeai"
      ]
    },
    {
      "cell_type": "markdown",
      "source": [
        "###Import packages"
      ],
      "metadata": {
        "id": "3D_ym3kK1d5N"
      }
    },
    {
      "cell_type": "markdown",
      "source": [
        "Import the necessary packages."
      ],
      "metadata": {
        "id": "EyY4chg41gwd"
      }
    },
    {
      "cell_type": "code",
      "source": [
        "import pathlib\n",
        "import textwrap\n",
        "import google.generativeai as genai\n",
        "\n",
        "from google.colab import userdata\n",
        "from IPython.display import display\n",
        "from IPython.display import Markdown\n",
        "\n",
        "\n",
        "def to_markdown(text):\n",
        "  text = text.replace('•', '  *')\n",
        "  return Markdown(textwrap.indent(text, '> ', predicate=lambda _: True))"
      ],
      "metadata": {
        "id": "Io4_kLs-URlW"
      },
      "execution_count": 23,
      "outputs": []
    },
    {
      "cell_type": "markdown",
      "source": [
        "### Setup your API key\n",
        "\n",
        "Before you can use the Gemini API, you must first obtain an API key. If you don't already have one, create a key with one click in Google AI Studio.\n",
        "\n",
        "<a class=\"button button-primary\" href=\"https://makersuite.google.com/app/apikey\" target=\"_blank\" rel=\"noopener noreferrer\">Get an API key</a>"
      ],
      "metadata": {
        "id": "annGrKRl19tu"
      }
    },
    {
      "cell_type": "code",
      "source": [
        "# Or use `os.getenv('GOOGLE_API_KEY')` to fetch an environment variable.\n",
        "\n",
        "api_key = userdata.get('GOOGLE_API_KEY')\n",
        "genai.configure(api_key = api_key)"
      ],
      "metadata": {
        "id": "_ceGoP5qUioP"
      },
      "execution_count": 27,
      "outputs": []
    },
    {
      "cell_type": "markdown",
      "source": [
        "## List models\n",
        "\n",
        "Now you're ready to call the Gemini API. Use `list_models` to see the available Gemini models:\n",
        "\n",
        "* `gemini-pro`: optimized for text-only prompts.\n",
        "* `gemini-pro-vision`: optimized for text-and-images prompts."
      ],
      "metadata": {
        "id": "UE89H6Qy3IkC"
      }
    },
    {
      "cell_type": "code",
      "source": [
        "for m in genai.list_models():\n",
        "  if 'generateContent' in m.supported_generation_methods:\n",
        "    print(m.name)"
      ],
      "metadata": {
        "colab": {
          "base_uri": "https://localhost:8080/",
          "height": 139
        },
        "id": "QIfAepxUU_RG",
        "outputId": "651212d3-ab54-460d-bda4-d9930b9ca1d3"
      },
      "execution_count": 25,
      "outputs": [
        {
          "output_type": "stream",
          "name": "stdout",
          "text": [
            "models/gemini-1.0-pro\n",
            "models/gemini-1.0-pro-001\n",
            "models/gemini-1.0-pro-latest\n",
            "models/gemini-1.0-pro-vision-latest\n",
            "models/gemini-1.5-pro-latest\n",
            "models/gemini-pro\n",
            "models/gemini-pro-vision\n"
          ]
        }
      ]
    },
    {
      "cell_type": "markdown",
      "source": [
        "## Generate configurations"
      ],
      "metadata": {
        "id": "DSQnv06u3_Zu"
      }
    },
    {
      "cell_type": "markdown",
      "source": [
        "candidate_count: reference for how many words the model will evaluate as candidates and temperature: reference for how creative the model will be” in English1."
      ],
      "metadata": {
        "id": "quf-5NRa7C-f"
      }
    },
    {
      "cell_type": "code",
      "source": [
        "generation_config = {\n",
        "    \"candidate_count\": 1,\n",
        "    \"temperature\": 0.5,\n",
        "}"
      ],
      "metadata": {
        "id": "mgc7TvVMV0SV"
      },
      "execution_count": 5,
      "outputs": []
    },
    {
      "cell_type": "markdown",
      "source": [
        "##Safety settings"
      ],
      "metadata": {
        "id": "Kv1G4_rv4XjZ"
      }
    },
    {
      "cell_type": "markdown",
      "source": [
        "Security settings"
      ],
      "metadata": {
        "id": "5PV1crub7e1I"
      }
    },
    {
      "cell_type": "code",
      "source": [
        "safety_settings = {\n",
        "    \"HARASSMENT\": \"BLOCK_NONE\",\n",
        "    \"HATE\": \"BLOCK_NONE\",\n",
        "    \"SEXUAL\": \"BLOCK_NONE\",\n",
        "    \"DANGEROUS\": \"BLOCK_NONE\",\n",
        "}"
      ],
      "metadata": {
        "id": "j8xIHlEvyk-d"
      },
      "execution_count": 7,
      "outputs": []
    },
    {
      "cell_type": "markdown",
      "source": [
        "##Initializing the model"
      ],
      "metadata": {
        "id": "5kfGKk9Z8Mqu"
      }
    },
    {
      "cell_type": "markdown",
      "source": [
        "### Generate text from text inputs\n",
        "\n",
        "For text-only prompts, use the `gemini-pro` model:"
      ],
      "metadata": {
        "id": "CBz-S-4K3jhW"
      }
    },
    {
      "cell_type": "code",
      "source": [
        "model = genai.GenerativeModel(model_name=\"gemini-1.0-pro\",\n",
        "                              generation_config=generation_config,\n",
        "                              safety_settings=safety_settings)"
      ],
      "metadata": {
        "id": "X5r2pD0T8XhA"
      },
      "execution_count": 8,
      "outputs": []
    },
    {
      "cell_type": "code",
      "source": [
        "response = model.generate_content(\"Como eu posso formatar um post no Linkedin?\")\n",
        "print(response.text)"
      ],
      "metadata": {
        "colab": {
          "base_uri": "https://localhost:8080/",
          "height": 711
        },
        "id": "QhTQYm3x96SA",
        "outputId": "78e026e1-36ae-48cf-d205-ebc6bcd13ac0"
      },
      "execution_count": 9,
      "outputs": [
        {
          "output_type": "stream",
          "name": "stdout",
          "text": [
            "**Como formatar um post no LinkedIn**\n",
            "\n",
            "**1. Crie um título cativante:**\n",
            "* Mantenha seu título curto e direto ao ponto (menos de 140 caracteres).\n",
            "* Use palavras-chave relevantes para que seu post apareça nas pesquisas.\n",
            "* Faça uma pergunta ou ofereça uma dica para atrair o envolvimento.\n",
            "\n",
            "**2. Escreva um corpo envolvente:**\n",
            "* Mantenha seu corpo conciso e fácil de ler (menos de 1.300 caracteres).\n",
            "* Use parágrafos curtos e parágrafos de tópicos para melhorar a legibilidade.\n",
            "* Use marcadores e listas para destacar pontos importantes.\n",
            "* Inclua links para fontes ou recursos adicionais.\n",
            "\n",
            "**3. Adicione imagens ou vídeos:**\n",
            "* As imagens podem tornar seu post mais atraente e envolvente.\n",
            "* Use imagens de alta qualidade e relevantes para o tópico.\n",
            "* Os vídeos podem ser uma ótima maneira de capturar a atenção e transmitir informações de forma envolvente.\n",
            "\n",
            "**4. Use hashtags:**\n",
            "* As hashtags ajudam a categorizar seu post e torná-lo mais visível para pessoas interessadas em tópicos semelhantes.\n",
            "* Use hashtags relevantes e específicas para o seu conteúdo.\n",
            "\n",
            "**5. Marque pessoas ou empresas:**\n",
            "* Se você estiver mencionando alguém ou uma empresa em seu post, marque-os para notificá-los e aumentar o alcance do seu post.\n",
            "* Use a função @ para marcar pessoas ou empresas.\n",
            "\n",
            "**6. Adicione um botão de call-to-action:**\n",
            "* Um botão de call-to-action pode incentivar os leitores a tomar uma ação específica, como visitar seu site ou se inscrever em sua lista de e-mail.\n",
            "* Use um botão de call-to-action claro e conciso.\n",
            "\n",
            "**7. Revise e publique:**\n",
            "* Revise seu post cuidadosamente antes de publicá-lo para verificar se há erros de ortografia ou gramática.\n",
            "* Escolha um horário para publicar quando seu público estiver mais ativo.\n",
            "\n",
            "**Dicas adicionais:**\n",
            "\n",
            "* Mantenha seus posts profissionais e relevantes para o seu público.\n",
            "* Use uma linguagem clara e concisa.\n",
            "* Seja consistente com sua marca e tom de voz.\n",
            "* Envolva-se com seus seguidores respondendo a comentários e perguntas.\n"
          ]
        }
      ]
    },
    {
      "cell_type": "markdown",
      "source": [
        "###Initializing the chat"
      ],
      "metadata": {
        "id": "d38ZFPm_95lR"
      }
    },
    {
      "cell_type": "code",
      "source": [
        "chat = model.start_chat(history=[])"
      ],
      "metadata": {
        "id": "MrNPgt-JAYfp"
      },
      "execution_count": 10,
      "outputs": []
    },
    {
      "cell_type": "code",
      "source": [
        "prompt = input(\"Waiting for the prompt:\")\n",
        "\n",
        "while prompt.lower() != \"stop\":\n",
        "  response = chat.send_message(prompt)\n",
        "  print(\"Response: \", response.text, \"\\n\")\n",
        "  prompt = input(\"Waiting for the new prompt:\")\n"
      ],
      "metadata": {
        "colab": {
          "base_uri": "https://localhost:8080/",
          "height": 329
        },
        "id": "j04m-LeiA8jE",
        "outputId": "66dba521-7f79-4639-f7c0-7b8514619c6a"
      },
      "execution_count": 16,
      "outputs": [
        {
          "name": "stdout",
          "output_type": "stream",
          "text": [
            "Waiting for the prompt:qual a capital da italia?\n",
            "Response:  **Roma** \n",
            "\n",
            "Waiting for the new prompt:qual é a comida típica?\n",
            "Response:  **Pratos típicos da Itália:**\n",
            "\n",
            "* **Pizza:** Massa assada coberta com molho de tomate, queijo e vários ingredientes.\n",
            "* **Pasta:** Massas como espaguete, penne e ravioli servidas com vários molhos.\n",
            "* **Risotto:** Arroz cozido em caldo com vários ingredientes, como frutos do mar, cogumelos ou vegetais.\n",
            "* **Lasanha:** Massa em camadas com molho de carne, queijo e molho bechamel.\n",
            "* **Ossobuco:** Pernil de vitela assado com legumes.\n",
            "* **Polenta:** Mingau feito de farinha de milho.\n",
            "* **Tiramisu:** Sobremesa à base de café com camadas de biscoitos embebidos em café, queijo mascarpone e cacau em pó.\n",
            "* **Gelato:** Sorvete italiano.\n",
            "* **Arancini:** Bolinhos de arroz fritos recheados com vários ingredientes, como carne, queijo ou legumes.\n",
            "* **Caprese:** Salada com mussarela fresca, tomate e manjericão. \n",
            "\n",
            "Waiting for the new prompt:stop\n"
          ]
        }
      ]
    },
    {
      "cell_type": "markdown",
      "source": [
        "###Print history"
      ],
      "metadata": {
        "id": "sGR0crwbYBwT"
      }
    },
    {
      "cell_type": "code",
      "source": [
        "print(chat.history)"
      ],
      "metadata": {
        "colab": {
          "base_uri": "https://localhost:8080/"
        },
        "id": "bxbrvaC1TvYy",
        "outputId": "f18a73dd-f587-4fa8-eb17-d666e8bfd4d9"
      },
      "execution_count": 18,
      "outputs": [
        {
          "output_type": "stream",
          "name": "stdout",
          "text": [
            "[parts {\n",
            "  text: \"qual a capital de nova guin\\303\\251\"\n",
            "}\n",
            "role: \"user\"\n",
            ", parts {\n",
            "  text: \"Port Moresby\"\n",
            "}\n",
            "role: \"model\"\n",
            ", parts {\n",
            "  text: \"qual a comida t\\303\\255pica desse pais?\"\n",
            "}\n",
            "role: \"user\"\n",
            ", parts {\n",
            "  text: \"**Pratos t\\303\\255picos da Papua Nova Guin\\303\\251:**\\n\\n* **Mumu:** Carne de porco ou peixe assada em folhas de bananeira em um forno de terra.\\n* **Saksak:** Frutos do mar crus marinados em suco de lim\\303\\243o e cebola.\\n* **Kaukau:** Inhame cozido ou frito.\\n* **Taros:** Ra\\303\\255zes de taro cozidas ou fritas.\\n* **Buai:** Folhas de b\\303\\251tele mascadas com noz de areca e cal.\\n* **Sag:** Folhas de espinafre cozidas com leite de coco.\\n* **Ami:** Peixe cru marinado em suco de lim\\303\\243o e cebola.\\n* **Pitpit:** Mingau feito de sagu ou inhame.\\n* **Laplap:** Massa feita de inhame, banana ou taro enrolada em folhas de bananeira e cozida.\\n* **Guava:** Fruta tropical doce e suculenta.\"\n",
            "}\n",
            "role: \"model\"\n",
            ", parts {\n",
            "  text: \"meu pai nasceu nessa cidade. Qual \\303\\251 sua nacionalidade?\"\n",
            "}\n",
            "role: \"user\"\n",
            ", parts {\n",
            "  text: \"Se seu pai nasceu em Port Moresby, sua nacionalidade \\303\\251 **papua-nova-guineense**.\\n\\nPort Moresby \\303\\251 a capital e maior cidade da Papua Nova Guin\\303\\251.\"\n",
            "}\n",
            "role: \"model\"\n",
            ", parts {\n",
            "  text: \"Qual \\303\\251 a nacionalidade dele?\"\n",
            "}\n",
            "role: \"user\"\n",
            ", parts {\n",
            "  text: \"**Papua-nova-guineense**\\n\\nComo Port Moresby \\303\\251 a capital e maior cidade da Papua Nova Guin\\303\\251, seu pai, tendo nascido l\\303\\241, \\303\\251 papua-nova-guineense de nacionalidade.\"\n",
            "}\n",
            "role: \"model\"\n",
            ", parts {\n",
            "  text: \"qual \\303\\251 sua popula\\303\\247\\303\\243o?\"\n",
            "}\n",
            "role: \"user\"\n",
            ", parts {\n",
            "  text: \"**Popula\\303\\247\\303\\243o de Port Moresby:**\\n\\nA popula\\303\\247\\303\\243o de Port Moresby \\303\\251 estimada em **cerca de 370.000 habitantes** (2023).\\n\\n\\303\\211 a cidade mais populosa da Papua Nova Guin\\303\\251 e a maior cidade do Pac\\303\\255fico Sul fora da Austr\\303\\241lia e da Nova Zel\\303\\242ndia.\"\n",
            "}\n",
            "role: \"model\"\n",
            ", parts {\n",
            "  text: \"qual a capital da italia?\"\n",
            "}\n",
            "role: \"user\"\n",
            ", parts {\n",
            "  text: \"**Roma**\"\n",
            "}\n",
            "role: \"model\"\n",
            ", parts {\n",
            "  text: \"qual \\303\\251 a comida t\\303\\255pica?\"\n",
            "}\n",
            "role: \"user\"\n",
            ", parts {\n",
            "  text: \"**Pratos t\\303\\255picos da It\\303\\241lia:**\\n\\n* **Pizza:** Massa assada coberta com molho de tomate, queijo e v\\303\\241rios ingredientes.\\n* **Pasta:** Massas como espaguete, penne e ravioli servidas com v\\303\\241rios molhos.\\n* **Risotto:** Arroz cozido em caldo com v\\303\\241rios ingredientes, como frutos do mar, cogumelos ou vegetais.\\n* **Lasanha:** Massa em camadas com molho de carne, queijo e molho bechamel.\\n* **Ossobuco:** Pernil de vitela assado com legumes.\\n* **Polenta:** Mingau feito de farinha de milho.\\n* **Tiramisu:** Sobremesa \\303\\240 base de caf\\303\\251 com camadas de biscoitos embebidos em caf\\303\\251, queijo mascarpone e cacau em p\\303\\263.\\n* **Gelato:** Sorvete italiano.\\n* **Arancini:** Bolinhos de arroz fritos recheados com v\\303\\241rios ingredientes, como carne, queijo ou legumes.\\n* **Caprese:** Salada com mussarela fresca, tomate e manjeric\\303\\243o.\"\n",
            "}\n",
            "role: \"model\"\n",
            "]\n"
          ]
        }
      ]
    },
    {
      "cell_type": "markdown",
      "source": [
        "###Print history Markdown"
      ],
      "metadata": {
        "id": "suUtvDDrYVAq"
      }
    },
    {
      "cell_type": "code",
      "source": [
        "#improving visualization\n",
        "\n",
        "def to_markdown(text):\n",
        "  text = text.replace('\\n','  \\n')\n",
        "  return Markdown(textwrap.indent(text, ' >'))\n",
        "\n",
        "#Print the o history\n",
        "for message in chat.history:\n",
        "  display(to_markdown(f\"**{message.role}:** {message.parts[0].text}\"))\n",
        "  print(\"-\" * 80)"
      ],
      "metadata": {
        "colab": {
          "base_uri": "https://localhost:8080/",
          "height": 1000
        },
        "id": "pIfyOEoDGWTb",
        "outputId": "92dc8a80-d77e-4c6b-e9ef-0cfa1e2e93ac"
      },
      "execution_count": 26,
      "outputs": [
        {
          "output_type": "display_data",
          "data": {
            "text/plain": [
              "<IPython.core.display.Markdown object>"
            ],
            "text/markdown": " >**user:** qual a capital de nova guiné"
          },
          "metadata": {}
        },
        {
          "output_type": "stream",
          "name": "stdout",
          "text": [
            "--------------------------------------------------------------------------------\n"
          ]
        },
        {
          "output_type": "display_data",
          "data": {
            "text/plain": [
              "<IPython.core.display.Markdown object>"
            ],
            "text/markdown": " >**model:** Port Moresby"
          },
          "metadata": {}
        },
        {
          "output_type": "stream",
          "name": "stdout",
          "text": [
            "--------------------------------------------------------------------------------\n"
          ]
        },
        {
          "output_type": "display_data",
          "data": {
            "text/plain": [
              "<IPython.core.display.Markdown object>"
            ],
            "text/markdown": " >**user:** qual a comida típica desse pais?"
          },
          "metadata": {}
        },
        {
          "output_type": "stream",
          "name": "stdout",
          "text": [
            "--------------------------------------------------------------------------------\n"
          ]
        },
        {
          "output_type": "display_data",
          "data": {
            "text/plain": [
              "<IPython.core.display.Markdown object>"
            ],
            "text/markdown": " >**model:** **Pratos típicos da Papua Nova Guiné:**  \n  \n >* **Mumu:** Carne de porco ou peixe assada em folhas de bananeira em um forno de terra.  \n >* **Saksak:** Frutos do mar crus marinados em suco de limão e cebola.  \n >* **Kaukau:** Inhame cozido ou frito.  \n >* **Taros:** Raízes de taro cozidas ou fritas.  \n >* **Buai:** Folhas de bétele mascadas com noz de areca e cal.  \n >* **Sag:** Folhas de espinafre cozidas com leite de coco.  \n >* **Ami:** Peixe cru marinado em suco de limão e cebola.  \n >* **Pitpit:** Mingau feito de sagu ou inhame.  \n >* **Laplap:** Massa feita de inhame, banana ou taro enrolada em folhas de bananeira e cozida.  \n >* **Guava:** Fruta tropical doce e suculenta."
          },
          "metadata": {}
        },
        {
          "output_type": "stream",
          "name": "stdout",
          "text": [
            "--------------------------------------------------------------------------------\n"
          ]
        },
        {
          "output_type": "display_data",
          "data": {
            "text/plain": [
              "<IPython.core.display.Markdown object>"
            ],
            "text/markdown": " >**user:** meu pai nasceu nessa cidade. Qual é sua nacionalidade?"
          },
          "metadata": {}
        },
        {
          "output_type": "stream",
          "name": "stdout",
          "text": [
            "--------------------------------------------------------------------------------\n"
          ]
        },
        {
          "output_type": "display_data",
          "data": {
            "text/plain": [
              "<IPython.core.display.Markdown object>"
            ],
            "text/markdown": " >**model:** Se seu pai nasceu em Port Moresby, sua nacionalidade é **papua-nova-guineense**.  \n  \n >Port Moresby é a capital e maior cidade da Papua Nova Guiné."
          },
          "metadata": {}
        },
        {
          "output_type": "stream",
          "name": "stdout",
          "text": [
            "--------------------------------------------------------------------------------\n"
          ]
        },
        {
          "output_type": "display_data",
          "data": {
            "text/plain": [
              "<IPython.core.display.Markdown object>"
            ],
            "text/markdown": " >**user:** Qual é a nacionalidade dele?"
          },
          "metadata": {}
        },
        {
          "output_type": "stream",
          "name": "stdout",
          "text": [
            "--------------------------------------------------------------------------------\n"
          ]
        },
        {
          "output_type": "display_data",
          "data": {
            "text/plain": [
              "<IPython.core.display.Markdown object>"
            ],
            "text/markdown": " >**model:** **Papua-nova-guineense**  \n  \n >Como Port Moresby é a capital e maior cidade da Papua Nova Guiné, seu pai, tendo nascido lá, é papua-nova-guineense de nacionalidade."
          },
          "metadata": {}
        },
        {
          "output_type": "stream",
          "name": "stdout",
          "text": [
            "--------------------------------------------------------------------------------\n"
          ]
        },
        {
          "output_type": "display_data",
          "data": {
            "text/plain": [
              "<IPython.core.display.Markdown object>"
            ],
            "text/markdown": " >**user:** qual é sua população?"
          },
          "metadata": {}
        },
        {
          "output_type": "stream",
          "name": "stdout",
          "text": [
            "--------------------------------------------------------------------------------\n"
          ]
        },
        {
          "output_type": "display_data",
          "data": {
            "text/plain": [
              "<IPython.core.display.Markdown object>"
            ],
            "text/markdown": " >**model:** **População de Port Moresby:**  \n  \n >A população de Port Moresby é estimada em **cerca de 370.000 habitantes** (2023).  \n  \n >É a cidade mais populosa da Papua Nova Guiné e a maior cidade do Pacífico Sul fora da Austrália e da Nova Zelândia."
          },
          "metadata": {}
        },
        {
          "output_type": "stream",
          "name": "stdout",
          "text": [
            "--------------------------------------------------------------------------------\n"
          ]
        },
        {
          "output_type": "display_data",
          "data": {
            "text/plain": [
              "<IPython.core.display.Markdown object>"
            ],
            "text/markdown": " >**user:** qual a capital da italia?"
          },
          "metadata": {}
        },
        {
          "output_type": "stream",
          "name": "stdout",
          "text": [
            "--------------------------------------------------------------------------------\n"
          ]
        },
        {
          "output_type": "display_data",
          "data": {
            "text/plain": [
              "<IPython.core.display.Markdown object>"
            ],
            "text/markdown": " >**model:** **Roma**"
          },
          "metadata": {}
        },
        {
          "output_type": "stream",
          "name": "stdout",
          "text": [
            "--------------------------------------------------------------------------------\n"
          ]
        },
        {
          "output_type": "display_data",
          "data": {
            "text/plain": [
              "<IPython.core.display.Markdown object>"
            ],
            "text/markdown": " >**user:** qual é a comida típica?"
          },
          "metadata": {}
        },
        {
          "output_type": "stream",
          "name": "stdout",
          "text": [
            "--------------------------------------------------------------------------------\n"
          ]
        },
        {
          "output_type": "display_data",
          "data": {
            "text/plain": [
              "<IPython.core.display.Markdown object>"
            ],
            "text/markdown": " >**model:** **Pratos típicos da Itália:**  \n  \n >* **Pizza:** Massa assada coberta com molho de tomate, queijo e vários ingredientes.  \n >* **Pasta:** Massas como espaguete, penne e ravioli servidas com vários molhos.  \n >* **Risotto:** Arroz cozido em caldo com vários ingredientes, como frutos do mar, cogumelos ou vegetais.  \n >* **Lasanha:** Massa em camadas com molho de carne, queijo e molho bechamel.  \n >* **Ossobuco:** Pernil de vitela assado com legumes.  \n >* **Polenta:** Mingau feito de farinha de milho.  \n >* **Tiramisu:** Sobremesa à base de café com camadas de biscoitos embebidos em café, queijo mascarpone e cacau em pó.  \n >* **Gelato:** Sorvete italiano.  \n >* **Arancini:** Bolinhos de arroz fritos recheados com vários ingredientes, como carne, queijo ou legumes.  \n >* **Caprese:** Salada com mussarela fresca, tomate e manjericão."
          },
          "metadata": {}
        },
        {
          "output_type": "stream",
          "name": "stdout",
          "text": [
            "--------------------------------------------------------------------------------\n"
          ]
        }
      ]
    }
  ]
}